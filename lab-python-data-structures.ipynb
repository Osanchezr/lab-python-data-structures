{
 "cells": [
  {
   "cell_type": "markdown",
   "metadata": {
    "tags": []
   },
   "source": [
    "# Lab | Data Structures "
   ]
  },
  {
   "cell_type": "markdown",
   "metadata": {},
   "source": [
    "## Exercise: Managing Customer Orders\n",
    "\n",
    "As part of a business venture, you are starting an online store that sells various products. To ensure smooth operations, you need to develop a program that manages customer orders and inventory.\n",
    "\n",
    "Follow the steps below to complete the exercise:\n",
    "\n",
    "1. Define a list called `products` that contains the following items: \"t-shirt\", \"mug\", \"hat\", \"book\", \"keychain\".\n",
    "\n",
    "2. Create an empty dictionary called `inventory`.\n",
    "\n",
    "3. Ask the user to input the quantity of each product available in the inventory. Use the product names from the `products` list as keys in the `inventory` dictionary and assign the respective quantities as values.\n",
    "\n",
    "4. Create an empty set called `customer_orders`.\n",
    "\n",
    "5. Ask the user to input the name of three products that a customer wants to order (from those in the products list, meaning three products out of \"t-shirt\", \"mug\", \"hat\", \"book\" or \"keychain\". Add each product name to the `customer_orders` set.\n",
    "\n",
    "6. Print the products in the `customer_orders` set.\n",
    "\n",
    "7. Calculate the following order statistics:\n",
    "   - Total Products Ordered: The total number of products in the `customer_orders` set.\n",
    "   - Percentage of Products Ordered: The percentage of products ordered compared to the total available products.\n",
    "   \n",
    "   Store these statistics in a tuple called `order_status`.\n",
    "\n",
    "8. Print the order statistics using the following format:\n",
    "   ```\n",
    "   Order Statistics:\n",
    "   Total Products Ordered: <total_products_ordered>\n",
    "   Percentage of Products Ordered: <percentage_ordered>% \n",
    "   ```\n",
    "\n",
    "9. Update the inventory by subtracting 1 from the quantity of each product. Modify the `inventory` dictionary accordingly.\n",
    "\n",
    "10. Print the updated inventory, displaying the quantity of each product on separate lines.\n",
    "\n",
    "Solve the exercise by implementing the steps using the Python concepts of lists, dictionaries, sets, and basic input/output operations. "
   ]
  },
  {
   "cell_type": "code",
   "execution_count": 63,
   "metadata": {},
   "outputs": [
    {
     "data": {
      "text/plain": [
       "{'t-shirt': 5, 'mug': 9, 'hat': 8, 'book': 7, 'keychain': 6}"
      ]
     },
     "execution_count": 63,
     "metadata": {},
     "output_type": "execute_result"
    }
   ],
   "source": [
    "#Definiendo el inventario\n",
    "\n",
    "products = [\"t-shirt\",\"mug\",\"hat\",\"book\",\"keychain\"]\n",
    "inventory = {}\n",
    "\n",
    "q_tshirt = int(input(\"Introduce la cantidad de tshirt: \"))\n",
    "q_mug = int(input(\"Introduce la cantidad de mug: \"))\n",
    "q_hat = int(input(\"Introduce la cantidad de hat: \"))\n",
    "q_book = int(input(\"Introduce la cantidad de book: \"))\n",
    "q_keychain = int(input(\"Introduce la cantidad de keychain: \"))\n",
    "\n",
    "inventory[products[0]] = q_tshirt\n",
    "inventory[products[1]] = q_mug\n",
    "inventory[products[2]] = q_hat\n",
    "inventory[products[3]] = q_book\n",
    "inventory[products[4]] = q_keychain\n",
    "\n",
    "inventory\n"
   ]
  },
  {
   "cell_type": "code",
   "execution_count": 64,
   "metadata": {},
   "outputs": [
    {
     "data": {
      "text/plain": [
       "{'hat', 'mug', 't-shirt'}"
      ]
     },
     "execution_count": 64,
     "metadata": {},
     "output_type": "execute_result"
    }
   ],
   "source": [
    "#Definiendo la orden del cliente\n",
    "customer_orders = set()\n",
    "\n",
    "product_uno = input(\"elige tu producto uno : \")\n",
    "product_dos = input(\"elige tu producto dos: \")\n",
    "product_tres = input(\"elige tu producto tres: \")\n",
    "\n",
    "customer_orders.add(product_uno)\n",
    "customer_orders.add(product_dos)\n",
    "customer_orders.add(product_tres)\n",
    "\n",
    "customer_orders"
   ]
  },
  {
   "cell_type": "code",
   "execution_count": 66,
   "metadata": {},
   "outputs": [
    {
     "data": {
      "text/plain": [
       "{'Total_order': 3, 'Percentage_order': 0.08571428571428572}"
      ]
     },
     "execution_count": 66,
     "metadata": {},
     "output_type": "execute_result"
    }
   ],
   "source": [
    "#Estadisticas de la orden\n",
    "\n",
    "Total_product_order = len(customer_orders)\n",
    "Total_product_order\n",
    "\n",
    "Percentage_product_order = Total_product_order/sum(inventory.values())\n",
    "Percentage_product_order\n",
    "\n",
    "order_status = {\"Total_order\" :Total_product_order,\"Percentage_order\" :Percentage_product_order}\n",
    "order_status"
   ]
  },
  {
   "cell_type": "code",
   "execution_count": 67,
   "metadata": {},
   "outputs": [
    {
     "name": "stdout",
     "output_type": "stream",
     "text": [
      "t-shirt: 4\n",
      "mug: 8\n",
      "hat: 7\n",
      "book: 7\n",
      "keychain: 6\n"
     ]
    }
   ],
   "source": [
    "#Actualizando el inventario\n",
    "\n",
    "for i in inventory:\n",
    "    if i in customer_orders:\n",
    "        inventory[i] -= 1\n",
    "\n",
    "for clave,valor in inventory.items():\n",
    "    print(f\"{clave}: {valor}\")        "
   ]
  },
  {
   "cell_type": "code",
   "execution_count": null,
   "metadata": {},
   "outputs": [],
   "source": []
  }
 ],
 "metadata": {
  "kernelspec": {
   "display_name": "Python 3 (ipykernel)",
   "language": "python",
   "name": "python3"
  },
  "language_info": {
   "codemirror_mode": {
    "name": "ipython",
    "version": 3
   },
   "file_extension": ".py",
   "mimetype": "text/x-python",
   "name": "python",
   "nbconvert_exporter": "python",
   "pygments_lexer": "ipython3",
   "version": "3.8.8"
  }
 },
 "nbformat": 4,
 "nbformat_minor": 4
}
